{
 "cells": [
  {
   "cell_type": "code",
   "execution_count": 1,
   "id": "b529a6e7",
   "metadata": {},
   "outputs": [],
   "source": [
    "# import data\n",
    "\n",
    "import pandas as pd\n",
    "\n",
    "df = pd.read_csv('../Data/1ADQ.tsv', sep='\\t')\n",
    "df.columns = ['Ag', 'AbSeq', 'Energy', 'AgSeq']\n",
    "df = df[['Ag', 'AgSeq', 'AbSeq', 'Energy']]\n"
   ]
  },
  {
   "cell_type": "code",
   "execution_count": 2,
   "id": "619671f3",
   "metadata": {},
   "outputs": [
    {
     "name": "stdout",
     "output_type": "stream",
     "text": [
      "12598 -> 8337\n",
      "47142745 -> 47091602\n"
     ]
    }
   ],
   "source": [
    "# filtering \n",
    "\n",
    "df2 = df[['Ag', 'AbSeq']].groupby(by='Ag', as_index=False).count()\n",
    "x1 = df.shape[0]\n",
    "x2 = df2.shape[0]\n",
    "\n",
    "df2 = df2[df2.AbSeq>=5000].sort_values(by='Ag').reset_index(drop=True)\n",
    "df1 = df[df.Ag.isin(df2.Ag)].sort_values(by=['Ag', 'AbSeq']).reset_index(drop=True)\n",
    "\n",
    "print(x2, '->', df2.shape[0])\n",
    "print(x1, '->', df1.shape[0])\n"
   ]
  },
  {
   "cell_type": "code",
   "execution_count": 3,
   "id": "097d37bb",
   "metadata": {},
   "outputs": [
    {
     "name": "stdout",
     "output_type": "stream",
     "text": [
      "5835 / 1668 / 834\n"
     ]
    }
   ],
   "source": [
    "# split\n",
    "\n",
    "from sklearn.model_selection import train_test_split\n",
    "\n",
    "df2_train, df2_val = train_test_split(df2, test_size=0.3, random_state=0)\n",
    "df2_val, df2_test = train_test_split(df2_val, test_size=1/3, random_state=0)\n",
    "\n",
    "print(df2_train.shape[0], '/', df2_val.shape[0], '/', df2_test.shape[0])\n",
    "\n",
    "df1_train = df1[df1.Ag.isin(df2_train.Ag)].reset_index(drop=True)\n",
    "df1_val = df1[df1.Ag.isin(df2_val.Ag)].reset_index(drop=True)\n",
    "df1_test = df1[df1.Ag.isin(df2_test.Ag)].reset_index(drop=True)\n"
   ]
  },
  {
   "cell_type": "code",
   "execution_count": 4,
   "id": "95b5820a",
   "metadata": {},
   "outputs": [
    {
     "name": "stdout",
     "output_type": "stream",
     "text": [
      "Energy < -87.99 : binder (label 1)\n",
      "Energy >= -87.99 : non-binder (label 0)\n",
      "32960553 / 0.4999184934791598\n",
      "9424812 / 0.49511183883561816\n",
      "4706237 / 0.5007712106296389\n"
     ]
    }
   ],
   "source": [
    "# threshold\n",
    "\n",
    "th = df1_train.Energy.quantile(0.5)\n",
    "\n",
    "print('Energy < %s : binder (label 1)' %th)\n",
    "print('Energy >= %s : non-binder (label 0)' %th)\n",
    "\n",
    "df1_train['BindClass'] = df1_train.apply(lambda x: 1 if x.Energy<th else 0, axis=1)\n",
    "print(df1_train.shape[0], '/', df1_train.BindClass.mean())\n",
    "\n",
    "df1_val['BindClass'] = df1_val.apply(lambda x: 1 if x.Energy<th else 0, axis=1)\n",
    "print(df1_val.shape[0], '/', df1_val.BindClass.mean())\n",
    "\n",
    "df1_test['BindClass'] = df1_test.apply(lambda x: 1 if x.Energy<th else 0, axis=1)\n",
    "print(df1_test.shape[0], '/', df1_test.BindClass.mean())\n"
   ]
  },
  {
   "cell_type": "code",
   "execution_count": 9,
   "id": "c5f1d4b0",
   "metadata": {},
   "outputs": [
    {
     "data": {
      "text/plain": [
       "<matplotlib.legend.Legend at 0x1365fdf40>"
      ]
     },
     "execution_count": 9,
     "metadata": {},
     "output_type": "execute_result"
    },
    {
     "data": {
      "image/png": "[encoded data removed]",
      "text/plain": [
       "<Figure size 432x288 with 1 Axes>"
      ]
     },
     "metadata": {
      "needs_background": "light"
     },
     "output_type": "display_data"
    }
   ],
   "source": [
    "ax = df1_train.Energy.hist(bins=20, label='train')\n",
    "ax = df1_val.append(df1_test).Energy.hist(bins=20, label='val+test')\n",
    "\n",
    "ax.set_xlabel(\"energy\")\n",
    "ax.set_ylabel(\"number of Ab CDRH3 - Ags pairs\")\n",
    "ax.legend()\n"
   ]
  },
  {
   "cell_type": "code",
   "execution_count": 10,
   "id": "5e34dc29",
   "metadata": {},
   "outputs": [
    {
     "data": {
      "text/plain": [
       "<matplotlib.legend.Legend at 0x1369e8490>"
      ]
     },
     "execution_count": 10,
     "metadata": {},
     "output_type": "execute_result"
    },
    {
     "data": {
      "image/png": "[encoded data removed]",
      "text/plain": [
       "<Figure size 432x288 with 1 Axes>"
      ]
     },
     "metadata": {
      "needs_background": "light"
     },
     "output_type": "display_data"
    }
   ],
   "source": [
    "ax = df1_train.groupby(by='Ag', as_index=False).count().AbSeq.hist(bins=20, label='train')\n",
    "ax = df1_val.append(df1_test).groupby(by='Ag', as_index=False).count().AbSeq.hist(bins=20, label='val+test')\n",
    "ax.set_xlabel(\"number of Ab CDRH3 per Ag\")\n",
    "ax.set_ylabel(\"number of Ags\")\n",
    "ax.legend()\n"
   ]
  },
  {
   "cell_type": "code",
   "execution_count": 7,
   "id": "98d6a1be",
   "metadata": {},
   "outputs": [
    {
     "name": "stdout",
     "output_type": "stream",
     "text": [
      "5273\n",
      "6317\n"
     ]
    }
   ],
   "source": [
    "print(df1_train.append(df1_val.append(df1_test)).groupby(by='Ag', as_index=False).count().AbSeq.min())\n",
    "print(df1_train.append(df1_val.append(df1_test)).groupby(by='Ag', as_index=False).count().AbSeq.max())\n"
   ]
  },
  {
   "cell_type": "code",
   "execution_count": 8,
   "id": "80058c1d",
   "metadata": {},
   "outputs": [],
   "source": [
    "df1_train.to_csv('../Data/1ADQ_train.tsv', sep='\\t', index=None)\n",
    "df1_val.to_csv('../Data/1ADQ_val.tsv', sep='\\t', index=None)\n",
    "df1_test.to_csv('../Data/1ADQ_test.tsv', sep='\\t', index=None)\n"
   ]
  }
 ],
 "metadata": {
  "kernelspec": {
   "display_name": "Python 3 (ipykernel)",
   "language": "python",
   "name": "python3"
  },
  "language_info": {
   "codemirror_mode": {
    "name": "ipython",
    "version": 3
   },
   "file_extension": ".py",
   "mimetype": "text/x-python",
   "name": "python",
   "nbconvert_exporter": "python",
   "pygments_lexer": "ipython3",
   "version": "3.9.7"
  }
 },
 "nbformat": 4,
 "nbformat_minor": 5
}
